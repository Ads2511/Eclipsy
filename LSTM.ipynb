{
  "nbformat": 4,
  "nbformat_minor": 0,
  "metadata": {
    "colab": {
      "provenance": [],
      "gpuType": "V28"
    },
    "kernelspec": {
      "name": "python3",
      "display_name": "Python 3"
    },
    "language_info": {
      "name": "python"
    },
    "accelerator": "TPU"
  },
  "cells": [
    {
      "cell_type": "code",
      "execution_count": 6,
      "metadata": {
        "id": "uTIahk5ozsek"
      },
      "outputs": [],
      "source": [
        "import pandas as pd\n",
        "import matplotlib.pyplot as plt\n",
        "import numpy as np\n",
        "from sklearn.model_selection import train_test_split\n",
        "from sklearn.preprocessing import StandardScaler\n",
        "from sklearn.metrics import accuracy_score, confusion_matrix, precision_score, recall_score, f1_score\n",
        "from keras.models import Sequential\n",
        "from keras.layers import LSTM, Dense, Dropout\n",
        "from keras.optimizers import Adam\n",
        "from tensorflow.keras.losses import SparseCategoricalCrossentropy\n"
      ]
    },
    {
      "cell_type": "code",
      "source": [
        "from google.colab import drive\n",
        "drive.mount('/content/drive')"
      ],
      "metadata": {
        "colab": {
          "base_uri": "https://localhost:8080/"
        },
        "id": "CW0GsEhVzuz9",
        "outputId": "57b3f2b4-75d5-4572-ea89-54fbab7808ce"
      },
      "execution_count": 2,
      "outputs": [
        {
          "output_type": "stream",
          "name": "stdout",
          "text": [
            "Mounted at /content/drive\n"
          ]
        }
      ]
    },
    {
      "cell_type": "code",
      "source": [
        "dataset = pd.read_csv(\"/content/drive/MyDrive/data.csv\", index_col=0)\n",
        "X = dataset.drop(columns=['y'])\n",
        "y = dataset['y']\n",
        "X_train, X_test, y_train, y_test = train_test_split(X, y, test_size=0.2, random_state=42)\n"
      ],
      "metadata": {
        "id": "dlVcD6ddz2wH"
      },
      "execution_count": 3,
      "outputs": []
    },
    {
      "cell_type": "code",
      "source": [
        "scaler = StandardScaler()\n",
        "X_train_scaled = scaler.fit_transform(X_train)\n",
        "X_test_scaled = scaler.transform(X_test)\n",
        "\n",
        "# Initialize models\n",
        "lstm_model = Sequential([\n",
        "    LSTM(units=64, input_shape=(X_train_scaled.shape[1], 1)),\n",
        "    Dense(6, activation='sigmoid')\n",
        "])\n",
        "\n",
        "model = lstm_model\n",
        "\n",
        "\n",
        "X_train_lstm = np.reshape(X_train_scaled, (X_train_scaled.shape[0], X_train_scaled.shape[1], 1))\n",
        "X_test_lstm = np.reshape(X_test_scaled, (X_test_scaled.shape[0], X_test_scaled.shape[1], 1))\n",
        "model.compile(optimizer='adam', loss=SparseCategoricalCrossentropy(), metrics=['accuracy'])\n",
        "history = model.fit(X_train, y_train, epochs=100, batch_size=5, validation_data=(X_test_scaled, y_test), verbose=1)\n",
        "y_pred = (model.predict(X_test_lstm) > 0.5).astype(int)\n",
        "\n",
        "\n",
        "_, accuracy = model.evaluate(X_test, y_test)\n",
        "print('Accuracy: %.2f' % (accuracy * 100))\n",
        "\n",
        "# Plot training history\n",
        "plt.figure(figsize=(10, 6))\n",
        "plt.plot(history.history['accuracy'], label='Train')\n",
        "plt.plot(history.history['val_accuracy'], label='Test')\n",
        "plt.title('Model Accuracy')\n",
        "plt.xlabel('Epoch')\n",
        "plt.ylabel('Accuracy')\n",
        "plt.legend()\n",
        "plt.show()"
      ],
      "metadata": {
        "colab": {
          "base_uri": "https://localhost:8080/",
          "height": 1000
        },
        "id": "cCRB8P5oz2y-",
        "outputId": "7129c27c-9262-447c-d388-28b492e699ef"
      },
      "execution_count": 8,
      "outputs": [
        {
          "output_type": "stream",
          "name": "stdout",
          "text": [
            "Epoch 1/100\n",
            "1840/1840 [==============================] - 107s 56ms/step - loss: 1.1104 - accuracy: 0.5104 - val_loss: 3.3575 - val_accuracy: 0.1957\n",
            "Epoch 2/100\n",
            "1840/1840 [==============================] - 111s 61ms/step - loss: 0.9797 - accuracy: 0.5727 - val_loss: 3.3754 - val_accuracy: 0.1957\n",
            "Epoch 3/100\n",
            "1840/1840 [==============================] - 103s 56ms/step - loss: 0.8630 - accuracy: 0.6204 - val_loss: 3.7634 - val_accuracy: 0.1957\n",
            "Epoch 4/100\n",
            "1840/1840 [==============================] - 98s 53ms/step - loss: 0.8402 - accuracy: 0.6283 - val_loss: 3.5153 - val_accuracy: 0.1957\n",
            "Epoch 5/100\n",
            "1840/1840 [==============================] - 98s 53ms/step - loss: 0.8101 - accuracy: 0.6388 - val_loss: 3.7226 - val_accuracy: 0.1957\n",
            "Epoch 6/100\n",
            "1840/1840 [==============================] - 98s 53ms/step - loss: 0.8815 - accuracy: 0.6160 - val_loss: 3.8273 - val_accuracy: 0.1957\n",
            "Epoch 7/100\n",
            "1840/1840 [==============================] - 96s 52ms/step - loss: 0.8458 - accuracy: 0.6268 - val_loss: 3.2895 - val_accuracy: 0.1957\n",
            "Epoch 8/100\n",
            "1840/1840 [==============================] - 96s 52ms/step - loss: 0.7925 - accuracy: 0.6495 - val_loss: 3.7328 - val_accuracy: 0.1957\n",
            "Epoch 9/100\n",
            "1840/1840 [==============================] - 105s 57ms/step - loss: 0.7786 - accuracy: 0.6517 - val_loss: 3.9717 - val_accuracy: 0.1961\n",
            "Epoch 10/100\n",
            "1840/1840 [==============================] - 107s 58ms/step - loss: 0.8106 - accuracy: 0.6383 - val_loss: 3.8959 - val_accuracy: 0.1957\n",
            "Epoch 11/100\n",
            "1840/1840 [==============================] - 95s 51ms/step - loss: 0.7772 - accuracy: 0.6525 - val_loss: 4.1543 - val_accuracy: 0.1957\n",
            "Epoch 12/100\n",
            "1840/1840 [==============================] - 103s 56ms/step - loss: 0.7756 - accuracy: 0.6530 - val_loss: 4.1133 - val_accuracy: 0.1957\n",
            "Epoch 13/100\n",
            "1840/1840 [==============================] - 99s 54ms/step - loss: 0.7557 - accuracy: 0.6670 - val_loss: 4.0416 - val_accuracy: 0.1957\n",
            "Epoch 14/100\n",
            "1840/1840 [==============================] - 104s 57ms/step - loss: 0.7238 - accuracy: 0.6712 - val_loss: 4.0011 - val_accuracy: 0.1957\n",
            "Epoch 15/100\n",
            "1840/1840 [==============================] - 109s 59ms/step - loss: 0.7095 - accuracy: 0.6793 - val_loss: 4.2662 - val_accuracy: 0.1957\n",
            "Epoch 16/100\n",
            "1840/1840 [==============================] - 99s 54ms/step - loss: 0.7236 - accuracy: 0.6757 - val_loss: 4.3338 - val_accuracy: 0.1957\n",
            "Epoch 17/100\n",
            "1840/1840 [==============================] - 96s 52ms/step - loss: 0.7043 - accuracy: 0.6825 - val_loss: 4.5257 - val_accuracy: 0.1957\n",
            "Epoch 18/100\n",
            "1840/1840 [==============================] - 99s 54ms/step - loss: 0.7215 - accuracy: 0.6804 - val_loss: 4.2169 - val_accuracy: 0.1957\n",
            "Epoch 19/100\n",
            "1840/1840 [==============================] - 101s 55ms/step - loss: 0.7015 - accuracy: 0.6898 - val_loss: 4.2828 - val_accuracy: 0.1957\n",
            "Epoch 20/100\n",
            "1840/1840 [==============================] - 98s 53ms/step - loss: 0.6988 - accuracy: 0.6818 - val_loss: 4.4594 - val_accuracy: 0.1957\n",
            "Epoch 21/100\n",
            "1840/1840 [==============================] - 97s 53ms/step - loss: 0.6854 - accuracy: 0.6924 - val_loss: 4.4369 - val_accuracy: 0.1957\n",
            "Epoch 22/100\n",
            "1840/1840 [==============================] - 103s 56ms/step - loss: 0.7091 - accuracy: 0.6841 - val_loss: 4.3608 - val_accuracy: 0.1957\n",
            "Epoch 23/100\n",
            "1840/1840 [==============================] - 103s 56ms/step - loss: 0.6846 - accuracy: 0.6898 - val_loss: 5.0748 - val_accuracy: 0.1957\n",
            "Epoch 24/100\n",
            "1840/1840 [==============================] - 98s 53ms/step - loss: 0.6714 - accuracy: 0.6952 - val_loss: 5.0914 - val_accuracy: 0.1957\n",
            "Epoch 25/100\n",
            "1840/1840 [==============================] - 103s 56ms/step - loss: 0.6769 - accuracy: 0.6936 - val_loss: 5.1800 - val_accuracy: 0.1957\n",
            "Epoch 26/100\n",
            "1840/1840 [==============================] - 100s 54ms/step - loss: 0.6647 - accuracy: 0.7002 - val_loss: 4.7341 - val_accuracy: 0.1957\n",
            "Epoch 27/100\n",
            "1840/1840 [==============================] - 102s 55ms/step - loss: 0.6611 - accuracy: 0.7005 - val_loss: 4.7651 - val_accuracy: 0.2009\n",
            "Epoch 28/100\n",
            "1840/1840 [==============================] - 94s 51ms/step - loss: 0.6492 - accuracy: 0.7085 - val_loss: 4.9467 - val_accuracy: 0.1961\n",
            "Epoch 29/100\n",
            "1840/1840 [==============================] - 99s 54ms/step - loss: 0.6766 - accuracy: 0.7025 - val_loss: 4.9858 - val_accuracy: 0.1957\n",
            "Epoch 30/100\n",
            "1840/1840 [==============================] - 95s 52ms/step - loss: 0.6541 - accuracy: 0.7060 - val_loss: 4.9770 - val_accuracy: 0.1957\n",
            "Epoch 31/100\n",
            "1840/1840 [==============================] - 99s 54ms/step - loss: 0.6577 - accuracy: 0.7076 - val_loss: 5.1894 - val_accuracy: 0.1957\n",
            "Epoch 32/100\n",
            "1840/1840 [==============================] - 97s 53ms/step - loss: 0.6630 - accuracy: 0.7048 - val_loss: 4.9866 - val_accuracy: 0.1957\n",
            "Epoch 33/100\n",
            "1840/1840 [==============================] - 97s 53ms/step - loss: 0.6364 - accuracy: 0.7112 - val_loss: 4.4718 - val_accuracy: 0.1957\n",
            "Epoch 34/100\n",
            "1840/1840 [==============================] - 102s 56ms/step - loss: 0.6421 - accuracy: 0.7088 - val_loss: 4.7241 - val_accuracy: 0.1957\n",
            "Epoch 35/100\n",
            "1840/1840 [==============================] - 104s 57ms/step - loss: 0.6454 - accuracy: 0.7068 - val_loss: 4.7159 - val_accuracy: 0.1957\n",
            "Epoch 36/100\n",
            "1840/1840 [==============================] - 100s 54ms/step - loss: 0.6143 - accuracy: 0.7223 - val_loss: 4.6398 - val_accuracy: 0.1957\n",
            "Epoch 37/100\n",
            "1840/1840 [==============================] - 101s 55ms/step - loss: 0.6046 - accuracy: 0.7260 - val_loss: 4.5846 - val_accuracy: 0.1957\n",
            "Epoch 38/100\n",
            "1840/1840 [==============================] - 99s 54ms/step - loss: 0.6007 - accuracy: 0.7352 - val_loss: 4.7124 - val_accuracy: 0.1957\n",
            "Epoch 39/100\n",
            "1840/1840 [==============================] - 101s 55ms/step - loss: 0.5966 - accuracy: 0.7432 - val_loss: 4.9018 - val_accuracy: 0.1957\n",
            "Epoch 40/100\n",
            "1840/1840 [==============================] - 95s 52ms/step - loss: 0.5911 - accuracy: 0.7360 - val_loss: 5.0617 - val_accuracy: 0.1957\n",
            "Epoch 41/100\n",
            "1840/1840 [==============================] - 98s 53ms/step - loss: 0.5927 - accuracy: 0.7384 - val_loss: 4.8406 - val_accuracy: 0.1957\n",
            "Epoch 42/100\n",
            "1840/1840 [==============================] - 103s 56ms/step - loss: 0.6081 - accuracy: 0.7322 - val_loss: 5.0853 - val_accuracy: 0.1957\n",
            "Epoch 43/100\n",
            "1840/1840 [==============================] - 100s 55ms/step - loss: 0.5968 - accuracy: 0.7272 - val_loss: 5.1196 - val_accuracy: 0.1957\n",
            "Epoch 44/100\n",
            "1840/1840 [==============================] - 100s 54ms/step - loss: 0.5864 - accuracy: 0.7434 - val_loss: 4.8635 - val_accuracy: 0.1957\n",
            "Epoch 45/100\n",
            "1840/1840 [==============================] - 102s 55ms/step - loss: 0.5987 - accuracy: 0.7362 - val_loss: 4.9229 - val_accuracy: 0.1957\n",
            "Epoch 46/100\n",
            "1840/1840 [==============================] - 97s 53ms/step - loss: 0.5940 - accuracy: 0.7388 - val_loss: 4.9368 - val_accuracy: 0.1957\n",
            "Epoch 47/100\n",
            "1840/1840 [==============================] - 100s 54ms/step - loss: 0.5735 - accuracy: 0.7400 - val_loss: 4.9367 - val_accuracy: 0.1961\n",
            "Epoch 48/100\n",
            "1840/1840 [==============================] - 103s 56ms/step - loss: 0.5771 - accuracy: 0.7475 - val_loss: 4.6014 - val_accuracy: 0.1957\n",
            "Epoch 49/100\n",
            "1840/1840 [==============================] - 102s 55ms/step - loss: 0.5740 - accuracy: 0.7491 - val_loss: 4.7902 - val_accuracy: 0.1957\n",
            "Epoch 50/100\n",
            "1840/1840 [==============================] - 100s 55ms/step - loss: 0.5575 - accuracy: 0.7540 - val_loss: 4.9810 - val_accuracy: 0.1957\n",
            "Epoch 51/100\n",
            "1840/1840 [==============================] - 101s 55ms/step - loss: 0.5659 - accuracy: 0.7505 - val_loss: 4.3333 - val_accuracy: 0.1961\n",
            "Epoch 52/100\n",
            "1840/1840 [==============================] - 102s 55ms/step - loss: 0.5554 - accuracy: 0.7555 - val_loss: 5.3471 - val_accuracy: 0.1957\n",
            "Epoch 53/100\n",
            "1840/1840 [==============================] - 97s 53ms/step - loss: 0.5351 - accuracy: 0.7658 - val_loss: 5.7282 - val_accuracy: 0.1957\n",
            "Epoch 54/100\n",
            "1840/1840 [==============================] - 104s 56ms/step - loss: 0.5347 - accuracy: 0.7648 - val_loss: 5.6167 - val_accuracy: 0.1965\n",
            "Epoch 55/100\n",
            "1840/1840 [==============================] - 98s 53ms/step - loss: 0.5389 - accuracy: 0.7684 - val_loss: 5.0782 - val_accuracy: 0.1970\n",
            "Epoch 56/100\n",
            "1840/1840 [==============================] - 108s 59ms/step - loss: 0.5513 - accuracy: 0.7603 - val_loss: 5.8575 - val_accuracy: 0.1961\n",
            "Epoch 57/100\n",
            "1840/1840 [==============================] - 97s 53ms/step - loss: 0.5422 - accuracy: 0.7657 - val_loss: 5.4506 - val_accuracy: 0.1961\n",
            "Epoch 58/100\n",
            "1840/1840 [==============================] - 102s 56ms/step - loss: 0.5247 - accuracy: 0.7778 - val_loss: 5.6468 - val_accuracy: 0.1957\n",
            "Epoch 59/100\n",
            "1840/1840 [==============================] - 107s 58ms/step - loss: 0.5174 - accuracy: 0.7780 - val_loss: 5.3217 - val_accuracy: 0.1957\n",
            "Epoch 60/100\n",
            "1840/1840 [==============================] - 103s 56ms/step - loss: 0.5296 - accuracy: 0.7691 - val_loss: 5.3015 - val_accuracy: 0.1957\n",
            "Epoch 61/100\n",
            "1840/1840 [==============================] - 104s 57ms/step - loss: 0.5263 - accuracy: 0.7742 - val_loss: 5.6149 - val_accuracy: 0.1957\n",
            "Epoch 62/100\n",
            "1840/1840 [==============================] - 101s 55ms/step - loss: 0.5329 - accuracy: 0.7734 - val_loss: 5.0088 - val_accuracy: 0.1957\n",
            "Epoch 63/100\n",
            "1840/1840 [==============================] - 104s 56ms/step - loss: 0.5309 - accuracy: 0.7693 - val_loss: 5.3047 - val_accuracy: 0.1957\n",
            "Epoch 64/100\n",
            "1840/1840 [==============================] - 104s 56ms/step - loss: 0.5185 - accuracy: 0.7761 - val_loss: 5.5991 - val_accuracy: 0.1957\n",
            "Epoch 65/100\n",
            "1840/1840 [==============================] - 101s 55ms/step - loss: 0.5121 - accuracy: 0.7743 - val_loss: 5.2315 - val_accuracy: 0.1957\n",
            "Epoch 66/100\n",
            "1840/1840 [==============================] - 108s 59ms/step - loss: 0.5176 - accuracy: 0.7763 - val_loss: 5.1990 - val_accuracy: 0.1957\n",
            "Epoch 67/100\n",
            "1840/1840 [==============================] - 97s 53ms/step - loss: 0.5074 - accuracy: 0.7760 - val_loss: 5.8224 - val_accuracy: 0.1957\n",
            "Epoch 68/100\n",
            "1840/1840 [==============================] - 101s 55ms/step - loss: 0.5250 - accuracy: 0.7810 - val_loss: 5.6306 - val_accuracy: 0.1957\n",
            "Epoch 69/100\n",
            "1840/1840 [==============================] - 100s 54ms/step - loss: 0.5074 - accuracy: 0.7804 - val_loss: 5.9871 - val_accuracy: 0.1961\n",
            "Epoch 70/100\n",
            "1840/1840 [==============================] - 103s 56ms/step - loss: 0.5044 - accuracy: 0.7821 - val_loss: 6.2093 - val_accuracy: 0.1961\n",
            "Epoch 71/100\n",
            "1840/1840 [==============================] - 97s 53ms/step - loss: 0.4884 - accuracy: 0.7873 - val_loss: 5.9219 - val_accuracy: 0.1957\n",
            "Epoch 72/100\n",
            "1840/1840 [==============================] - 101s 55ms/step - loss: 0.4908 - accuracy: 0.7921 - val_loss: 5.6954 - val_accuracy: 0.1957\n",
            "Epoch 73/100\n",
            "1840/1840 [==============================] - 97s 53ms/step - loss: 0.5114 - accuracy: 0.7793 - val_loss: 5.8148 - val_accuracy: 0.1957\n",
            "Epoch 74/100\n",
            "1840/1840 [==============================] - 95s 52ms/step - loss: 0.4957 - accuracy: 0.7866 - val_loss: 5.8569 - val_accuracy: 0.1974\n",
            "Epoch 75/100\n",
            "1840/1840 [==============================] - 105s 57ms/step - loss: 0.4985 - accuracy: 0.7868 - val_loss: 6.6345 - val_accuracy: 0.1957\n",
            "Epoch 76/100\n",
            "1840/1840 [==============================] - 99s 54ms/step - loss: 0.5003 - accuracy: 0.7861 - val_loss: 6.1841 - val_accuracy: 0.1957\n",
            "Epoch 77/100\n",
            "1840/1840 [==============================] - 101s 55ms/step - loss: 0.4862 - accuracy: 0.7910 - val_loss: 6.3626 - val_accuracy: 0.1957\n",
            "Epoch 78/100\n",
            "1840/1840 [==============================] - 98s 53ms/step - loss: 0.4816 - accuracy: 0.7924 - val_loss: 6.2536 - val_accuracy: 0.1961\n",
            "Epoch 79/100\n",
            "1840/1840 [==============================] - 97s 53ms/step - loss: 0.4907 - accuracy: 0.7936 - val_loss: 6.5558 - val_accuracy: 0.1957\n",
            "Epoch 80/100\n",
            "1840/1840 [==============================] - 102s 55ms/step - loss: 0.4844 - accuracy: 0.7955 - val_loss: 6.6879 - val_accuracy: 0.1957\n",
            "Epoch 81/100\n",
            "1840/1840 [==============================] - 102s 55ms/step - loss: 0.4847 - accuracy: 0.7921 - val_loss: 6.6809 - val_accuracy: 0.1957\n",
            "Epoch 82/100\n",
            "1840/1840 [==============================] - 98s 53ms/step - loss: 0.4646 - accuracy: 0.8034 - val_loss: 6.4460 - val_accuracy: 0.1957\n",
            "Epoch 83/100\n",
            "1840/1840 [==============================] - 104s 56ms/step - loss: 0.4795 - accuracy: 0.7980 - val_loss: 6.4703 - val_accuracy: 0.1957\n",
            "Epoch 84/100\n",
            "1840/1840 [==============================] - 100s 54ms/step - loss: 0.4626 - accuracy: 0.8059 - val_loss: 6.8707 - val_accuracy: 0.1961\n",
            "Epoch 85/100\n",
            "1840/1840 [==============================] - 101s 55ms/step - loss: 0.4597 - accuracy: 0.8097 - val_loss: 7.0474 - val_accuracy: 0.1957\n",
            "Epoch 86/100\n",
            "1840/1840 [==============================] - 99s 54ms/step - loss: 0.4649 - accuracy: 0.8002 - val_loss: 6.7503 - val_accuracy: 0.1957\n",
            "Epoch 87/100\n",
            "1840/1840 [==============================] - 105s 57ms/step - loss: 0.4606 - accuracy: 0.8053 - val_loss: 6.5783 - val_accuracy: 0.1961\n",
            "Epoch 88/100\n",
            "1840/1840 [==============================] - 101s 55ms/step - loss: 0.4680 - accuracy: 0.8051 - val_loss: 6.2092 - val_accuracy: 0.1961\n",
            "Epoch 89/100\n",
            "1840/1840 [==============================] - 102s 55ms/step - loss: 0.4895 - accuracy: 0.7892 - val_loss: 6.8688 - val_accuracy: 0.1957\n",
            "Epoch 90/100\n",
            "1840/1840 [==============================] - 101s 55ms/step - loss: 0.4451 - accuracy: 0.8123 - val_loss: 6.7859 - val_accuracy: 0.1957\n",
            "Epoch 91/100\n",
            "1840/1840 [==============================] - 103s 56ms/step - loss: 0.4718 - accuracy: 0.7974 - val_loss: 6.6576 - val_accuracy: 0.1961\n",
            "Epoch 92/100\n",
            "1840/1840 [==============================] - 99s 54ms/step - loss: 0.4589 - accuracy: 0.8059 - val_loss: 5.6634 - val_accuracy: 0.1957\n",
            "Epoch 93/100\n",
            "1840/1840 [==============================] - 102s 56ms/step - loss: 0.4245 - accuracy: 0.8195 - val_loss: 7.2942 - val_accuracy: 0.1957\n",
            "Epoch 94/100\n",
            "1840/1840 [==============================] - 103s 56ms/step - loss: 0.4507 - accuracy: 0.8098 - val_loss: 7.5545 - val_accuracy: 0.1957\n",
            "Epoch 95/100\n",
            "1840/1840 [==============================] - 103s 56ms/step - loss: 0.4585 - accuracy: 0.8041 - val_loss: 6.5125 - val_accuracy: 0.1961\n",
            "Epoch 96/100\n",
            "1840/1840 [==============================] - 98s 53ms/step - loss: 0.4376 - accuracy: 0.8167 - val_loss: 7.2275 - val_accuracy: 0.1961\n",
            "Epoch 97/100\n",
            "1840/1840 [==============================] - 103s 56ms/step - loss: 0.4486 - accuracy: 0.8118 - val_loss: 7.2321 - val_accuracy: 0.1961\n",
            "Epoch 98/100\n",
            "1840/1840 [==============================] - 103s 56ms/step - loss: 0.4333 - accuracy: 0.8184 - val_loss: 7.5244 - val_accuracy: 0.1961\n",
            "Epoch 99/100\n",
            "1840/1840 [==============================] - 112s 61ms/step - loss: 0.4186 - accuracy: 0.8254 - val_loss: 7.5960 - val_accuracy: 0.1970\n",
            "Epoch 100/100\n",
            "1840/1840 [==============================] - 104s 57ms/step - loss: 0.4494 - accuracy: 0.8089 - val_loss: 7.1174 - val_accuracy: 0.1965\n",
            "72/72 [==============================] - 3s 29ms/step\n",
            "72/72 [==============================] - 3s 36ms/step - loss: 0.7630 - accuracy: 0.6900\n",
            "Accuracy: 69.00\n"
          ]
        },
        {
          "output_type": "display_data",
          "data": {
            "text/plain": [
              "<Figure size 1000x600 with 1 Axes>"
            ],
            "image/png": "[encoded data removed]"
          },
          "metadata": {}
        }
      ]
    },
    {
      "cell_type": "code",
      "source": [],
      "metadata": {
        "id": "ISjvu0NHz21p"
      },
      "execution_count": null,
      "outputs": []
    },
    {
      "cell_type": "code",
      "source": [],
      "metadata": {
        "id": "5ntzbhX7z24I"
      },
      "execution_count": null,
      "outputs": []
    },
    {
      "cell_type": "code",
      "source": [],
      "metadata": {
        "id": "DsoVyMDFz26w"
      },
      "execution_count": null,
      "outputs": []
    },
    {
      "cell_type": "code",
      "source": [],
      "metadata": {
        "id": "Ql42swmuz289"
      },
      "execution_count": null,
      "outputs": []
    },
    {
      "cell_type": "code",
      "source": [],
      "metadata": {
        "id": "lfAIWdZLz3Ai"
      },
      "execution_count": null,
      "outputs": []
    }
  ]
}